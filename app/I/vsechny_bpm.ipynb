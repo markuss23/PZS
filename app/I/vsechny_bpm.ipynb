{
 "cells": [
  {
   "cell_type": "markdown",
   "metadata": {},
   "source": [
    "# Použité knihovny"
   ]
  },
  {
   "cell_type": "code",
   "execution_count": null,
   "metadata": {},
   "outputs": [],
   "source": [
    "import wfdb\n",
    "import os\n",
    "import matplotlib.pyplot as plt\n",
    "import numpy as np\n",
    "from scipy.signal import butter, filtfilt\n"
   ]
  },
  {
   "cell_type": "code",
   "execution_count": null,
   "metadata": {},
   "outputs": [],
   "source": [
    "# Hlavní adresář se složkami EKG měření\n",
    "main_directory = \"../data/ekg\"\n",
    "\n",
    "# Načtení seznamu složek\n",
    "folders = sorted([f for f in os.listdir(main_directory) if os.path.isdir(os.path.join(main_directory, f))])\n",
    "print(f\"Nalezené složky: {folders}\")"
   ]
  },
  {
   "cell_type": "code",
   "execution_count": null,
   "metadata": {},
   "outputs": [],
   "source": [
    "lowcut = 0.5  # Dolní hranice pásmové filtrace (Hz)\n",
    "highcut = 50.0  # Horní hranice pásmové filtrace (Hz)\n",
    "filter_order = 4  # Pořadí filtru\n",
    "threshold = 0.5  # Práh pro detekci R vrcholů"
   ]
  },
  {
   "cell_type": "code",
   "execution_count": 2,
   "metadata": {},
   "outputs": [
    {
     "name": "stdout",
     "output_type": "stream",
     "text": [
      "Nalezené složky: ['100001', '100002', '103001', '103002', '103003', '104001', '105001', '111001', '113001', '114001', '115001', '118001', '121001', '122001', '123001', '124001', '125001', '126001']\n"
     ]
    },
    {
     "ename": "KeyboardInterrupt",
     "evalue": "",
     "output_type": "error",
     "traceback": [
      "\u001b[0;31m---------------------------------------------------------------------------\u001b[0m",
      "\u001b[0;31mKeyboardInterrupt\u001b[0m                         Traceback (most recent call last)",
      "Cell \u001b[0;32mIn[2], line 53\u001b[0m\n\u001b[1;32m     51\u001b[0m \u001b[38;5;66;03m# Aplikace filtrace\u001b[39;00m\n\u001b[1;32m     52\u001b[0m \u001b[38;5;28;01mtry\u001b[39;00m:\n\u001b[0;32m---> 53\u001b[0m     signal_processed \u001b[38;5;241m=\u001b[39m \u001b[43mbandpass_filter\u001b[49m\u001b[43m(\u001b[49m\u001b[43msignal_normalized\u001b[49m\u001b[43m,\u001b[49m\u001b[43m \u001b[49m\u001b[43mlowcut\u001b[49m\u001b[43m,\u001b[49m\u001b[43m \u001b[49m\u001b[43mhighcut\u001b[49m\u001b[43m,\u001b[49m\u001b[43m \u001b[49m\u001b[43msampling_frequency\u001b[49m\u001b[43m,\u001b[49m\u001b[43m \u001b[49m\u001b[43mfilter_order\u001b[49m\u001b[43m)\u001b[49m\n\u001b[1;32m     54\u001b[0m \u001b[38;5;28;01mexcept\u001b[39;00m \u001b[38;5;167;01mValueError\u001b[39;00m \u001b[38;5;28;01mas\u001b[39;00m e:\n\u001b[1;32m     55\u001b[0m     \u001b[38;5;28mprint\u001b[39m(\u001b[38;5;124mf\u001b[39m\u001b[38;5;124m\"\u001b[39m\u001b[38;5;124mChyba filtrace: \u001b[39m\u001b[38;5;132;01m{\u001b[39;00me\u001b[38;5;132;01m}\u001b[39;00m\u001b[38;5;124m\"\u001b[39m)\n",
      "Cell \u001b[0;32mIn[2], line 49\u001b[0m, in \u001b[0;36mbandpass_filter\u001b[0;34m(signal, lowcut, highcut, fs, order)\u001b[0m\n\u001b[1;32m     47\u001b[0m high \u001b[38;5;241m=\u001b[39m highcut \u001b[38;5;241m/\u001b[39m nyquist\n\u001b[1;32m     48\u001b[0m b, a \u001b[38;5;241m=\u001b[39m butter(order, [low, high], btype\u001b[38;5;241m=\u001b[39m\u001b[38;5;124m\"\u001b[39m\u001b[38;5;124mband\u001b[39m\u001b[38;5;124m\"\u001b[39m)\n\u001b[0;32m---> 49\u001b[0m \u001b[38;5;28;01mreturn\u001b[39;00m \u001b[43mfiltfilt\u001b[49m\u001b[43m(\u001b[49m\u001b[43mb\u001b[49m\u001b[43m,\u001b[49m\u001b[43m \u001b[49m\u001b[43ma\u001b[49m\u001b[43m,\u001b[49m\u001b[43m \u001b[49m\u001b[43msignal\u001b[49m\u001b[43m)\u001b[49m\n",
      "File \u001b[0;32m~/projects/marek/github/PZS/.venv/lib/python3.12/site-packages/scipy/signal/_signaltools.py:4540\u001b[0m, in \u001b[0;36mfiltfilt\u001b[0;34m(b, a, x, axis, padtype, padlen, method, irlen)\u001b[0m\n\u001b[1;32m   4537\u001b[0m x0 \u001b[38;5;241m=\u001b[39m axis_slice(ext, stop\u001b[38;5;241m=\u001b[39m\u001b[38;5;241m1\u001b[39m, axis\u001b[38;5;241m=\u001b[39maxis)\n\u001b[1;32m   4539\u001b[0m \u001b[38;5;66;03m# Forward filter.\u001b[39;00m\n\u001b[0;32m-> 4540\u001b[0m (y, zf) \u001b[38;5;241m=\u001b[39m \u001b[43mlfilter\u001b[49m\u001b[43m(\u001b[49m\u001b[43mb\u001b[49m\u001b[43m,\u001b[49m\u001b[43m \u001b[49m\u001b[43ma\u001b[49m\u001b[43m,\u001b[49m\u001b[43m \u001b[49m\u001b[43mext\u001b[49m\u001b[43m,\u001b[49m\u001b[43m \u001b[49m\u001b[43maxis\u001b[49m\u001b[38;5;241;43m=\u001b[39;49m\u001b[43maxis\u001b[49m\u001b[43m,\u001b[49m\u001b[43m \u001b[49m\u001b[43mzi\u001b[49m\u001b[38;5;241;43m=\u001b[39;49m\u001b[43mzi\u001b[49m\u001b[43m \u001b[49m\u001b[38;5;241;43m*\u001b[39;49m\u001b[43m \u001b[49m\u001b[43mx0\u001b[49m\u001b[43m)\u001b[49m\n\u001b[1;32m   4542\u001b[0m \u001b[38;5;66;03m# Backward filter.\u001b[39;00m\n\u001b[1;32m   4543\u001b[0m \u001b[38;5;66;03m# Create y0 so zi*y0 broadcasts appropriately.\u001b[39;00m\n\u001b[1;32m   4544\u001b[0m y0 \u001b[38;5;241m=\u001b[39m axis_slice(y, start\u001b[38;5;241m=\u001b[39m\u001b[38;5;241m-\u001b[39m\u001b[38;5;241m1\u001b[39m, axis\u001b[38;5;241m=\u001b[39maxis)\n",
      "File \u001b[0;32m~/projects/marek/github/PZS/.venv/lib/python3.12/site-packages/scipy/signal/_signaltools.py:2177\u001b[0m, in \u001b[0;36mlfilter\u001b[0;34m(b, a, x, axis, zi)\u001b[0m\n\u001b[1;32m   2175\u001b[0m     \u001b[38;5;28;01mreturn\u001b[39;00m _sigtools\u001b[38;5;241m.\u001b[39m_linear_filter(b, a, x, axis)\n\u001b[1;32m   2176\u001b[0m \u001b[38;5;28;01melse\u001b[39;00m:\n\u001b[0;32m-> 2177\u001b[0m     \u001b[38;5;28;01mreturn\u001b[39;00m \u001b[43m_sigtools\u001b[49m\u001b[38;5;241;43m.\u001b[39;49m\u001b[43m_linear_filter\u001b[49m\u001b[43m(\u001b[49m\u001b[43mb\u001b[49m\u001b[43m,\u001b[49m\u001b[43m \u001b[49m\u001b[43ma\u001b[49m\u001b[43m,\u001b[49m\u001b[43m \u001b[49m\u001b[43mx\u001b[49m\u001b[43m,\u001b[49m\u001b[43m \u001b[49m\u001b[43maxis\u001b[49m\u001b[43m,\u001b[49m\u001b[43m \u001b[49m\u001b[43mzi\u001b[49m\u001b[43m)\u001b[49m\n",
      "\u001b[0;31mKeyboardInterrupt\u001b[0m: "
     ]
    }
   ],
   "source": [
    "\n",
    "\n",
    "\n",
    "# Uložení výsledků BPM pro každé měření\n",
    "bpm_results = []\n",
    "\n",
    "for folder in folders:\n",
    "    ekg_directory = os.path.join(main_directory, folder)\n",
    "\n",
    "    # Načtení všech dostupných souborů ve složce\n",
    "    files = os.listdir(ekg_directory)\n",
    "    signal_basenames = set(f.split(\".\")[0] for f in files if f.endswith(\"ECG.dat\"))\n",
    "\n",
    "    if len(signal_basenames) > 0:\n",
    "        signal_basename = list(signal_basenames)[0]\n",
    "        record_path = os.path.join(ekg_directory, signal_basename)\n",
    "\n",
    "        # Načtení signálu\n",
    "        record = wfdb.rdsamp(record_path)\n",
    "        signal = record[0][:, 0]  # První kanál\n",
    "        fields = record[1]\n",
    "\n",
    "        # Parametry\n",
    "        sampling_frequency = fields[\"fs\"]  # Vzorkovací frekvence (Hz)\n",
    "        \n",
    "\n",
    "        # Normalizace signálu\n",
    "        signal_normalized = (signal - np.mean(signal)) / np.std(signal)\n",
    "\n",
    "        # Funkce pro pásmovou filtrační metodu\n",
    "        def bandpass_filter(signal, lowcut, highcut, fs, order):\n",
    "            nyquist = 0.5 * fs\n",
    "            low = lowcut / nyquist\n",
    "            high = highcut / nyquist\n",
    "            b, a = butter(order, [low, high], btype=\"band\")\n",
    "            return filtfilt(b, a, signal)\n",
    "\n",
    "        # Aplikace filtrace\n",
    "        try:\n",
    "            signal_processed = bandpass_filter(signal_normalized, lowcut, highcut, sampling_frequency, filter_order)\n",
    "        except ValueError as e:\n",
    "            print(f\"Chyba filtrace: {e}\")\n",
    "            signal_processed = signal_normalized\n",
    "\n",
    "        # Derivace signálu\n",
    "        derivative = np.gradient(signal_processed)\n",
    "\n",
    "        # Hledání nulových průchodů podle derivace\n",
    "        zero_crossings = np.where((derivative[:-1] > 0) & (derivative[1:] < 0))[0]\n",
    "\n",
    "        # Filtrování nulových průchodů podle amplitudy (práh)\n",
    "        peaks = zero_crossings[signal_processed[zero_crossings] > threshold]\n",
    "\n",
    "        # Zajištění stejného počtu vzorků pro signal_processed a detekované vrcholy\n",
    "        peaks = peaks[peaks < len(signal_processed)]\n",
    "\n",
    "        # Výpočet tepové frekvence\n",
    "        if len(peaks) > 1:\n",
    "            r_peak_intervals = np.diff(peaks) / sampling_frequency  # Intervaly mezi R vrcholy\n",
    "            heart_rate = 60 / np.mean(r_peak_intervals) if len(r_peak_intervals) > 0 else 0\n",
    "        else:\n",
    "            heart_rate = 0\n",
    "\n",
    "        print(f\"Složka: {folder}, Počet detekovaných R vrcholů: {len(peaks)}, Průměrná tepová frekvence: {heart_rate:.2f} BPM\")\n",
    "\n",
    "        # Uložení výsledků BPM\n",
    "        bpm_results.append((folder, heart_rate))\n",
    "\n",
    "# Vykreslení grafu\n",
    "folders, bpm_values = zip(*bpm_results)\n",
    "plt.figure(figsize=(12, 6))\n",
    "plt.bar(folders, bpm_values, color=\"skyblue\")\n",
    "plt.title(\"Tepová frekvence (BPM) pro jednotlivá měření\")\n",
    "plt.xlabel(\"Měření\")\n",
    "plt.ylabel(\"BPM\")\n",
    "plt.xticks(rotation=45)\n",
    "plt.grid(axis=\"y\")\n",
    "plt.show()\n"
   ]
  }
 ],
 "metadata": {
  "kernelspec": {
   "display_name": ".venv",
   "language": "python",
   "name": "python3"
  },
  "language_info": {
   "codemirror_mode": {
    "name": "ipython",
    "version": 3
   },
   "file_extension": ".py",
   "mimetype": "text/x-python",
   "name": "python",
   "nbconvert_exporter": "python",
   "pygments_lexer": "ipython3",
   "version": "3.12.7"
  }
 },
 "nbformat": 4,
 "nbformat_minor": 2
}
