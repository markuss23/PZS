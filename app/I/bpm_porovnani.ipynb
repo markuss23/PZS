{
 "cells": [
  {
   "cell_type": "markdown",
   "metadata": {},
   "source": [
    "# Výpočet tepové frekvence z EKG signálu \n",
    "## Vypracovali Marek Tremel, Radek Novák a Kseniia Mahalias\n",
    "\n",
    "**Zadání** : Ve zdrojové databázi najdete celkem 18 měření EKG signálu pro různé věkové skupiny. Signál\n",
    "obsahuje různé anomálie a nemusí být vždy centralizován podle vodorovné osy. EKG signál\n",
    "obsahuje dominantní peaky, které se nazývají R vrcholy. Vzdálenost těchto vrcholů určuje dobu\n",
    "mezi jednotlivými tepy. Počet tepů za minutu je tedy počet R vrcholů v signálu o délce jedné\n",
    "minuty. Navrhněte algoritmus, který bude automaticky detekovat počet R vrcholů v EKG\n",
    "signálech a prezentujte tepovou frekvenci při jednotlivých jízdách/měřeních. Vás algoritmus\n",
    "následně otestujte na databázi MIT-BIH https://physionet.org/content/nsrdb/1.0.0/ a\n",
    "prezentujte jeho úspěšnost vzhledem k anotovaným datům z databáze.\n",
    "\n",
    "----------\n",
    "\n"
   ]
  },
  {
   "cell_type": "markdown",
   "metadata": {},
   "source": [
    "## Použité knihovny"
   ]
  },
  {
   "cell_type": "code",
   "execution_count": 1,
   "metadata": {},
   "outputs": [],
   "source": [
    "import pandas as pd\n",
    "import wfdb\n",
    "import os\n",
    "import numpy as np\n",
    "from scipy.signal import butter, filtfilt"
   ]
  },
  {
   "cell_type": "markdown",
   "metadata": {},
   "source": [
    "## Parametry pro nastavení zpracování dat"
   ]
  },
  {
   "cell_type": "code",
   "execution_count": 2,
   "metadata": {},
   "outputs": [],
   "source": [
    "sampfrom = 0  # Počáteční index vzorku\n",
    "nsamp = 100000  # Počet vzorků\n",
    "lowcut = 0.5  # Dolní hranice pásmové filtrace (Hz)\n",
    "highcut = 2.211  # Horní hranice pásmové filtrace (Hz)\n",
    "filter_order = 4  # Pořadí filtru\n",
    "threshold = 0.0001  # Práh pro detekci R vrcholů"
   ]
  },
  {
   "cell_type": "markdown",
   "metadata": {},
   "source": [
    "## Pásmová filtrace\n",
    "\n",
    "Proces, který propouští signály v určitém frekvenčním rozsahu a zároveň potlačuje signály mimo toto pásmo. \n",
    "1. Výpočet Nyquistovy frekvence: Nyquistova frekvence je polovina vzorkovací frekvence (fs). Je to maximální frekvence, kterou lze správně reprezentovat při dané vzorkovací frekvenc\n",
    "2. Normalizace mezních frekvencí: Dolní a horní mezní frekvence jsou normalizovány vzhledem k Nyquistově frekvenci.\n",
    "3. Funkce *butter* z knihovny *scipy.signal* navrhne Butterworthův filtr s daným řádem a normalizovanými mezními frekvencemi. Výstupem jsou koeficienty filtru *b* a *a*\n",
    "4. Funkce *filtfilt* z knihovny *scipy.signal* aplikuje navržený filtr na vstupní signál. Tato funkce provádí obousměrné filtrování, což znamená, že signál je filtrován dopředu i dozadu, aby se minimalizovalo fázové zkreslení."
   ]
  },
  {
   "cell_type": "code",
   "execution_count": 3,
   "metadata": {},
   "outputs": [],
   "source": [
    "def bandpass_filter(signal, lowcut, highcut, fs, order):\n",
    "    \"\"\"Funkce pro pásmovou filtrační metodu\n",
    "\n",
    "    Args:\n",
    "        signal: vstupní signál, který má být filtrován.\n",
    "        lowcut: dolní mez frekvenčního pásma\n",
    "        highcut: horní mez frekvenčního pásma.\n",
    "        fs: vzorkovací frekvence signálu.\n",
    "        order: řád filtru, který určuje strmost filtru.\n",
    "\n",
    "    Returns:\n",
    "        Filtrovaný signál.\n",
    "    \"\"\"\n",
    "    nyquist = 0.5 * fs\n",
    "    low = lowcut / nyquist\n",
    "    high = highcut / nyquist\n",
    "    b, a = butter(order, [low, high], btype=\"band\")\n",
    "    return filtfilt(b, a, signal)"
   ]
  },
  {
   "cell_type": "markdown",
   "metadata": {},
   "source": [
    "## Funkce pro výpočet tepové frekvence (BPM) z detekovaných R vrcholů\n",
    "Pokud je detekováno více než jedno maximum (`peaks.size > 1`)\n",
    "1. Spočítá se rozdíl mezi sousedními indexy (`np.diff(peaks)`), což odpovídá počtu vzorků mezi R-vrcholy.\n",
    "2. Tím, že se rozdíly vydělí vzorkovací frekvencí (`sampling_frequency`), získají se časové intervaly mezi jednotlivými údery srdce v sekundách. \n",
    "3. Průměrný interval mezi R-vrcholy se použije k výpočtu tepové frekvence"
   ]
  },
  {
   "cell_type": "code",
   "execution_count": 4,
   "metadata": {},
   "outputs": [],
   "source": [
    "def calculate_heart_rate(peaks, sampling_frequency):\n",
    "    \"\"\"Funkce pro výpočet tepové frekvence (BPM) z detekovaných R vrcholů.\n",
    "\n",
    "    Args:\n",
    "        peaks: indexy detekovaných R vrcholů.\n",
    "\n",
    "    Returns:\n",
    "        Tepová frekvence v BPM.\n",
    "    \"\"\"\n",
    "    if peaks.size > 1:\n",
    "        # Výpočet intervalů mezi R vrcholy\n",
    "        # np.diff(peaks) vypočítá rozdíly mezi po sobě jdoucími indexy vrcholů, což představuje počet vzorků mezi vrcholy.\n",
    "        # Dělením vzorkovací frekvencí (sampling_frequency) se tyto rozdíly převedou na časové intervaly v sekundách.\n",
    "        r_peak_intervals = np.diff(peaks) / sampling_frequency\n",
    "        # Výpočet průměrné tepové frekvence:\n",
    "        # np.mean(r_peak_intervals) vypočítá průměrný interval mezi R vrcholy.\n",
    "        # Tepová frekvence (BPM) je rovna 60 děleno průměrným intervalem mezi R vrcholy.\n",
    "        # Pokud nebyly detekovány žádné R vrcholy, je tepová frekvence nastavena na 0.\n",
    "        return 60 / np.mean(r_peak_intervals) if r_peak_intervals.size > 0 else 0\n",
    "    else:\n",
    "        return 0\n"
   ]
  },
  {
   "cell_type": "markdown",
   "metadata": {},
   "source": [
    "1. Ze složky se naleznout unikátní názvy souborů. Podmínka ošetří unikátnost a valididní soubory s daty.\n",
    "2. Zpracování každého souboru\n",
    "    - Načte EKG signál a jeho parametry pomocí `wfdb.rdsamp()`.\n",
    "    - Načte referenční R-vrcholy pomocí `wfdb.rdann()`.\n",
    "    - Aplikuje se `pásmová filtrace`\n",
    "    - Vypočítá se derivace signálu\n",
    "    - Určí nulové průchody v derivaci signálu a vyfiltruje je podle nastaveného prahu.\n",
    "3. Výpočítá se BPM pomocí funkce `calculate_heart_rate()` pro detekované i referenční R-vrcholy.\n",
    "4. Vytvoření DataFrame a výpočet přesnosti.\n",
    "5. Vrací DataFrame s výsledky pro další analýzu.\n"
   ]
  },
  {
   "cell_type": "code",
   "execution_count": 5,
   "metadata": {},
   "outputs": [],
   "source": [
    "def get_data():\n",
    "    # Načtení dat\n",
    "    data: list = []\n",
    "\n",
    "    # Načtení názvů souborů\n",
    "    filenames = set()\n",
    "    main_directory = \"../data/real_ekg\"\n",
    "    for idx, file in enumerate(os.listdir(main_directory)):\n",
    "        # if idx == 20:\n",
    "        #     break\n",
    "        if file.endswith(\".dat\"):\n",
    "            filenames.add(file.split(\".\")[0])\n",
    "\n",
    "    print(f\"Počet souborů: {len(filenames)}\")\n",
    "    # Procházení souborů\n",
    "    for name in filenames:\n",
    "        # Načtení signálu a informací o signálu\n",
    "        record_path = os.path.join(main_directory, name)\n",
    "\n",
    "        # Načtení signálu a informací o signálu\n",
    "        record = wfdb.rdsamp(record_path, sampfrom=sampfrom, sampto=sampfrom + nsamp)\n",
    "\n",
    "        # Načtení referenčních R vrcholů\n",
    "        true_peaks = wfdb.rdann(\n",
    "            record_path, extension=\"atr\", sampfrom=sampfrom, sampto=sampfrom + nsamp\n",
    "        ).sample\n",
    "\n",
    "        # Signál\n",
    "        signal = record[0][:, 0]\n",
    "        fields = record[1]\n",
    "\n",
    "        # Vzorkovací frekvence (Hz)\n",
    "        sampling_frequency = fields[\"fs\"]\n",
    "\n",
    "        # Normalizace signálu\n",
    "        # Tak, aby měl nulový průměr a jednotkovou směrodatnou odchylku\n",
    "        signal_normalized = (signal - np.mean(signal)) / np.std(signal)\n",
    "\n",
    "        # Aplikace filtrace\n",
    "        try:\n",
    "            signal_processed = bandpass_filter(\n",
    "                signal_normalized, lowcut, highcut, sampling_frequency, filter_order\n",
    "            )\n",
    "        except ValueError as e:\n",
    "            print(f\"Chyba filtrace: {e}\")\n",
    "            signal_processed = signal_normalized\n",
    "\n",
    "        # Derivace signálu je užitečná pro detekci změn v signálu, jako jsou vrcholy a průchody nulou.\n",
    "        # V kontextu EKG signálu se derivace používá k detekci R vrcholů, které odpovídají srdečním úderům.\n",
    "        derivative = np.gradient(signal_processed)\n",
    "\n",
    "        # Hledání nulových průchodů podle derivace\n",
    "        zero_crossings = np.where((derivative[:-1] > 0) & (derivative[1:] < 0))[0]\n",
    "\n",
    "        # Filtrace nulových průchodů podle prahu\n",
    "        peaks = zero_crossings[\n",
    "            (signal_processed[zero_crossings] > threshold)\n",
    "            & (zero_crossings < len(signal_processed))\n",
    "        ]\n",
    "        # Přidání výsledků do seznamu\n",
    "        # Název souboru, vypočítaná tepová frekvence, referenční tepová frekvence\n",
    "        data.append(\n",
    "            [\n",
    "                name,\n",
    "                calculate_heart_rate(peaks, sampling_frequency),\n",
    "                calculate_heart_rate(true_peaks, sampling_frequency),\n",
    "            ]\n",
    "        )\n",
    "    # Vytvoření DataFrame\n",
    "    df = pd.DataFrame(data, columns=[\"name\", \"heart_rate\", \"true_heart_rate\"])\n",
    "    # Výpočet přesnosti\n",
    "    df[\"accuracy\"] = (\n",
    "        1 - abs(df[\"heart_rate\"] - df[\"true_heart_rate\"]) / df[\"true_heart_rate\"]\n",
    "    ) * 100\n",
    "    return df"
   ]
  },
  {
   "cell_type": "markdown",
   "metadata": {},
   "source": [
    "## Zavolání finální funkce a výpis výsledků"
   ]
  },
  {
   "cell_type": "code",
   "execution_count": 7,
   "metadata": {},
   "outputs": [
    {
     "name": "stdout",
     "output_type": "stream",
     "text": [
      "Počet souborů: 18\n",
      "     name  heart_rate  true_heart_rate   accuracy\n",
      "0   16539   82.740077        84.097411  98.385998\n",
      "1   18184   81.846837        92.202413  88.768650\n",
      "2   16273   94.647887        95.401818  99.209731\n",
      "3   19088   91.050476       106.032775  85.870125\n",
      "4   17453   79.210142        79.366940  99.802438\n",
      "5   16773   75.180318       106.757338  70.421686\n",
      "6   16786   73.780384        74.013170  99.685481\n",
      "7   16795   73.497237        81.295861  90.407108\n",
      "8   19140   93.075991        97.008908  95.945819\n",
      "9   16265  100.119751       101.144658  98.986691\n",
      "10  19090   83.077755        88.180426  94.213375\n",
      "11  16420   85.855143        88.636377  96.862197\n",
      "12  17052   85.137820        85.904148  99.107927\n",
      "13  19093   67.771486        73.764882  91.875000\n",
      "14  16483   89.514254        89.892856  99.578830\n",
      "15  19830  105.535049       109.362954  96.499816\n",
      "16  18177  107.706989       114.703745  93.900151\n",
      "17  16272   89.190569        76.501980  83.414039\n",
      "Průměrná přesnost: 93.49639231274452 %\n"
     ]
    }
   ],
   "source": [
    "df: pd.DataFrame = get_data()\n",
    "print(df)\n",
    "print(f\"Průměrná přesnost: {df['accuracy'].mean()} %\")"
   ]
  },
  {
   "cell_type": "markdown",
   "metadata": {},
   "source": [
    "## Slovní hodnocení\n",
    "[Původní hodnocení](vsechny_bpm.ipynb)\n",
    "\n",
    "V tomto úseku jsme porovnávali vytvořený algoritmus proti referenčním datům.\n",
    "\n",
    "V rámci řešení zadaného úkolu jsme se potýkali s problémem načtení referenčních dat v původním prostředí Jupyter Notebook. Důvodem byla inkompatibilita datového typu int8, která způsobila přetečení.\n",
    "Problém byl vyřešen přesunutím do klasického Python skriptu.\n",
    "\n",
    "Téměr okamžitě se nám podařilo načíst a zpracovat. Po úpravě parametrů pro zajištění kompatibility dat byl signál zpracován a byla provedena extrakce hodnot BPM. Výsledné hodnoty byly uloženy do struktury Pandas DataFrame a následně vyhodnoceny s výslednou úspěšností 93,5 %.\n",
    "\n",
    "Když se úkol dodělal pomocí skriptu. Zkusili jsme vytvořit nový Jupyter Notebook a začalo to opět fungovat.\n",
    "\n",
    "Tato část seminární práce byla pro mě zajímavá, protože jsme museli vyřešit přetečení datového typu, která byla nakonec úspěšně překonána.\n",
    "\n"
   ]
  }
 ],
 "metadata": {
  "kernelspec": {
   "display_name": ".venv",
   "language": "python",
   "name": "python3"
  },
  "language_info": {
   "codemirror_mode": {
    "name": "ipython",
    "version": 3
   },
   "file_extension": ".py",
   "mimetype": "text/x-python",
   "name": "python",
   "nbconvert_exporter": "python",
   "pygments_lexer": "ipython3",
   "version": "3.12.7"
  }
 },
 "nbformat": 4,
 "nbformat_minor": 2
}
